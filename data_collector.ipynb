{
 "cells": [
  {
   "cell_type": "code",
   "execution_count": 16,
   "id": "8060a595",
   "metadata": {},
   "outputs": [],
   "source": [
    "import pandas as pd\n",
    "import newspaper\n",
    "from newspaper import Article\n",
    "from datetime import datetime\n",
    "import time\n",
    "import requests\n",
    "from urllib.parse import urljoin, urlparse\n",
    "import logging\n",
    "import os\n",
    "import glob\n"
   ]
  },
  {
   "cell_type": "code",
   "execution_count": 25,
   "id": "073859b8",
   "metadata": {},
   "outputs": [
    {
     "data": {
      "text/plain": [
       "(16, 3)"
      ]
     },
     "execution_count": 25,
     "metadata": {},
     "output_type": "execute_result"
    }
   ],
   "source": [
    "df = pd.read_excel(\"df_init.xlsx\")\n",
    "df.shape\n"
   ]
  },
  {
   "cell_type": "code",
   "execution_count": 21,
   "id": "13471d8c",
   "metadata": {},
   "outputs": [
    {
     "name": "stderr",
     "output_type": "stream",
     "text": [
      "[nltk_data] Downloading package punkt to\n",
      "[nltk_data]     C:\\Users\\panla\\AppData\\Roaming\\nltk_data...\n",
      "[nltk_data]   Package punkt is already up-to-date!\n"
     ]
    },
    {
     "data": {
      "text/plain": [
       "True"
      ]
     },
     "execution_count": 21,
     "metadata": {},
     "output_type": "execute_result"
    }
   ],
   "source": [
    "import nltk\n",
    "nltk.download('punkt')"
   ]
  },
  {
   "cell_type": "code",
   "execution_count": null,
   "id": "cb332307",
   "metadata": {},
   "outputs": [
    {
     "name": "stdout",
     "output_type": "stream",
     "text": [
      "['Hello world.', 'How are you today?']\n"
     ]
    }
   ],
   "source": [
    "\n",
    "## spacy test\n",
    "\n",
    "import spacy\n",
    "\n",
    "nlp = spacy.load(\"en_core_web_sm\")\n",
    "text = \"Hello world. How are you today?\"\n",
    "\n",
    "doc = nlp(text)\n",
    "sentences = [sent.text for sent in doc.sents]\n",
    "\n",
    "print(sentences)\n"
   ]
  },
  {
   "cell_type": "code",
   "execution_count": null,
   "id": "8703a4d9",
   "metadata": {},
   "outputs": [],
   "source": [
    "from collections import Counter\n",
    "\n",
    "# Loading spaCy\n",
    "nlp = spacy.load(\"en_core_web_sm\")\n",
    "\n",
    "# Function for extracting simple keywords via spaCy (most frequent tokens without stopwords)\n",
    "def extract_keywords_spacy(text, top_n=10):\n",
    "    doc = nlp(text.lower())\n",
    "    words = [token.text for token in doc if token.is_alpha and not token.is_stop]\n",
    "    most_common = Counter(words).most_common(top_n)\n",
    "    return [word for word, _ in most_common]\n",
    "\n",
    "\n",
    "## Create columns\n",
    "df['title'] = None\n",
    "df['publish_date'] = None\n",
    "df['authors'] = None\n",
    "df['scraped_at'] = None\n",
    "df['keywords'] = None\n",
    "df['text'] = None\n",
    "df['text_length'] = None\n",
    "\n",
    "# Scraping loop\n",
    "for index, row in df.iterrows():\n",
    "    url = row['url']\n",
    "    article = Article(\n",
    "        url=url,\n",
    "        language='en',\n",
    "        browser_user_agent='Mozilla/5.0 (Windows NT 10.0; Win64; x64) AppleWebKit/537.36 (KHTML, like Gecko) Chrome/58.0.3029.110 Safari/537.3'\n",
    "    )\n",
    "\n",
    "    try:\n",
    "        article.download()\n",
    "        article.parse()\n",
    "\n",
    "        df.loc[index, 'title'] = article.title\n",
    "        df.loc[index, 'publish_date'] = article.publish_date.strftime('%Y-%m-%d %H:%M:%S') if article.publish_date else None\n",
    "        df.loc[index, 'authors'] = ', '.join(article.authors) if article.authors else None\n",
    "        df.loc[index, 'scraped_at'] = datetime.now().strftime('%Y-%m-%d %H:%M:%S')\n",
    "        df.loc[index, 'text'] = article.text\n",
    "        df.loc[index, 'text_length'] = len(article.text)\n",
    "\n",
    "        # Extract keywords with spaCy\n",
    "        if article.text:\n",
    "            keywords = extract_keywords_spacy(article.text, top_n=10)\n",
    "            df.loc[index, 'keywords'] = ', '.join(keywords)\n",
    "        else:\n",
    "            df.loc[index, 'keywords'] = None\n",
    "\n",
    "    except Exception as e:\n",
    "        print(f\"⚠️ Unsuccessful scraping at index {index} : {e}\")\n",
    "        continue\n",
    "\n",
    "# Save\n",
    "os.makedirs('output', exist_ok=True)\n",
    "output_path = 'output/articles_scraped.xlsx'\n",
    "df.to_excel(output_path, index=False)\n",
    "print(f\"✅ Results saved in {output_path}\")\n"
   ]
  },
  {
   "cell_type": "code",
   "execution_count": 29,
   "id": "40a818c6",
   "metadata": {},
   "outputs": [],
   "source": [
    "df = df.drop(columns=[\"date_published\", \"headline\"])"
   ]
  },
  {
   "cell_type": "code",
   "execution_count": 31,
   "id": "cbdc5c34",
   "metadata": {},
   "outputs": [
    {
     "data": {
      "application/vnd.microsoft.datawrangler.viewer.v0+json": {
       "columns": [
        {
         "name": "index",
         "rawType": "int64",
         "type": "integer"
        },
        {
         "name": "url",
         "rawType": "object",
         "type": "string"
        },
        {
         "name": "title",
         "rawType": "object",
         "type": "string"
        },
        {
         "name": "publish_date",
         "rawType": "object",
         "type": "string"
        },
        {
         "name": "authors",
         "rawType": "object",
         "type": "string"
        },
        {
         "name": "scraped_at",
         "rawType": "object",
         "type": "string"
        },
        {
         "name": "keywords",
         "rawType": "object",
         "type": "string"
        },
        {
         "name": "text",
         "rawType": "object",
         "type": "string"
        },
        {
         "name": "text_length",
         "rawType": "object",
         "type": "unknown"
        }
       ],
       "ref": "e01a35f0-3679-4794-b8dc-2366734c7192",
       "rows": [
        [
         "0",
         "https://retailwire.com/discussion/early-summer-retail-sales/",
         "Is Early Summer Becoming a Bigger Retail Sales Opportunity?",
         "2025-07-03 13:36:50",
         "Craig Sundstrom, Mohamed Amer, Alex Walderman, You Are Going To Send Email To, Move Comment",
         "2025-07-05 12:33:35",
         "summer, july, prices, dick, announced, retailers, dollar, general, aldi, sales",
         "July 3, 2025\n\nRetailers ranging from Dollar General to Dick’s Sporting Goods and Aldi have launched summer savings events to spur sales in what is typically a quieter time for retail business.\n\nThe arrival of Amazon Prime Day, which extends this year from two to four days, from July 8 to 11, has put more attention on the month of July for retailers. Walmart, Target, Best Buy and Kohl’s have already announced sales alongside the event.\n\nHowever, more retailers are introducing summer savings campaigns this year at a time that traditionally focuses on summer clearance deals ahead of back-to-school selling. The deals may be countering inflationary concerns.\n\nDick’s, Dollar General, Meijer, Aldi, and Sam’s Club All Pushing Summer Sales\n\nDick’s on Wednesday announced its inaugural DICK’S Deal Days promotion — running from July 7 through July 10 — supporting summer activities with deals on swimsuits and kayaks, as well as the start of the travel and youth sports season. Said Melissa Christian, VP of global brand and category marketing at Dick’s Sporting Goods, in a statement: “This time of the year is packed with games, getaways and everything in between, and we know our athletes love to save on the gear they need.”\n\nMeijer in mid-May announced it was reducing prices on more than 70 “summer grocery staples” as part of a new 10-week promotion. Don Sanderson, chief merchandising and marketing officer, said: “Meijer understands customers are looking for value now more than ever before, especially during the summer months of cookouts, camping and kids home from school.”\n\nDollar General is running a “7 Days of Savings” summer sales event (July 6-12) with discounts of up to 50% off one featured item each day. Prices have also been lowered on more than 1,000 items through Labor Day. Emily Taylor, Dollar General’s EVP and chief merchandising officer, said, “With kids home from school, there’s often additional meal prep and a desire for additional activities. Our discount offers are designed to enhance affordability on the items our customers need and want.”\n\nSam’s Club announced on June 17 that it was locking in prices on more than 1,000 “summer favorites” through July 22 amid threats of higher prices tied to tariffs. The wholesale club stated, “From grilling gear and coolers to pool floats and fresh-cut fruit trays — members can count on consistent value for the season’s must-haves. No surprises. Just confidence.”\n\nAldi announced in early June it was lowering prices on more than 400 products to “help shoppers celebrate summer without sticker shock.” Aldi U.S. CEO Jason Hart said, “While customers may see higher prices at other retailers, we’re working hard to unlock even more value for our shoppers, just in time for summer’s lineup of holidays and gatherings where food takes center stage.”",
         "2826"
        ],
        [
         "1",
         "https://retailwire.com/discussion/trader-joes-open-stores-adjacent/",
         "Should Trader Joe’s Open Stores Next To Each Other?",
         "2025-07-01 16:30:00",
         "Craig Sundstrom, Pamela Kaplan, Kai Clarke, Mohamed Amer, Nolan Wheeler, You Are Going To Send Email To, Move Comment",
         "2025-07-05 12:33:36",
         "location, trader, joe, store, new, opened, street, said, stores, publix",
         "July 1, 2025\n\nTrader Joe’s has opened a store in Sherman Oaks directly across the street from one of its first California stores opened in 1973. The twist: They’re aiming to keep both open.\n\nThe new location, affectionately called “Sherman Oaks too” on Trader Joe’s website, is 40% larger than the older location with wider aisles and bigger floral, refrigerated and frozen sections. It also features an underground garage, a major upgrade from the cramped outdoor parking lot across the street.\n\nMatt Judd, the new store’s manager, told Today.com that the initial plan was the retire the old location when the new store was ready, but the grocer decided to keep both given the strong traffic in the area. Judd said, “Somewhere along the line, we decided maybe we could see how two goes for a little bit. There’s that much business here, and we’ve had such a great relationship with our customers for 52 years.”\n\nTrader Joe’s reportedly recently signed a three-year lease on the old location.\n\nSocial media commentators were confused by the nearby opening with some comparing it to how Starbucks opens stores in close proximity to others, but locals liked the spacious aisles and parking lot at the new location.\n\nIn a similar move, Publix in 2023 opened a store at a new shopping center, Pembroke Pines, across the street from an existing location. Publix told Local 10 News the new store alleviates congestion at its original location and offers support for “the best traffic patterns in a particular area.”\n\nBeth Azor, CEO of Azor Advisory Services, a real estate management firm in Florida, believes Publix opened the second location as a defensive tactic, estimating a typical 40,000-square-foot-store generates $40 million in revenue. She said, “With numbers like that, it is worth it to invest in a ‘protecting the perimeter strategy’”\n\nIn a similar set-up, Trader Joe’s in Boston has two stores on the same street, only five blocks apart. On a Trader Joe’s podcast last year, the grocer said the close proximity at those Boston locations supports the customer and associate experience.\n\nTara Miller, Trader Joe’s marketing VP, said on the podcast, “If there are too many people, customers aren’t having a good time, crew members probably aren’t having a good time, and that just makes the Trader Joe’s experience a little bit less fun.”",
         "2344"
        ],
        [
         "2",
         "https://retailwire.com/discussion/how-retailers-attract-value-seeking-consumers/",
         "How Can Retailers Best Attract a Growing Cohort of Value-Seeking Consumers, Beyond Price?",
         "2025-07-01 16:00:00",
         "Craig Sundstrom, Mohamed Amer, Frank Margolis, Robin Mallory, You Are Going To Send Email To, Move Comment",
         "2025-07-05 12:33:36",
         "value, brands, consumers, deloitte, quality, income, consumer, mvp, seekers, price",
         "July 1, 2025\n\nWhen it comes to the concept of the value proposition, one longstanding belief has placed one central metric at the core of the question: pricing.\n\nHowever, according to a recent Deloitte report titled “The Value-Seeking Consumer: Competitors Could Lose Out to Brands Offering More than Low Prices,” the findings expanded that notion beyond the aforementioned truism into more nuanced territory.\n\nChief among the results — price isn’t everything. Per a regression analysis of nearly 300 brands, Deloitte researchers found that price perceptions can predict between 60% to 90% of value perceptions. However, that leaves between 10% to 40% of perceived value on the table, and that portion can be attributed to brands executing on key fronts such as quality, attitude, and trust.\n\n“MVP brands [brands which offer more value for the price] deliver more than just competitive prices — they can provide added value that attracts consumers, even when their products cost more. MVPs focus on product and service quality and reliability. They may also be perceived as having more friendly attitudes that build consumer trust. Lower-value brands looking to make the shift to being an MVP can do so by emulating these attributes, in a way that aligns with their unique brand identity and business approach,” said Mike Daher, vice chair and U.S. consumer industry leader, Deloitte.\n\nValue-Seekers on the Rise, Particularly in Higher-Income Circles\n\nDefining value-seekers as those who display three or more cost-conscious, deal-driven, or convenience-sacrificing behaviors per month across all purchasing sectors, Deloitte indicated that about four-in-10 (or 40%) of the 9,000 American consumers surveyed fall into this group.\n\nCiting persistent inflationary pressures and ongoing economic turbulence, the study authors suggested that value-conscious behavior was notably on the rise, particularly in evidence since peak inflation surfaced in 2022.\n\nOf those who were classified as value-seekers, higher-income earners showed the greatest degree of discretionary commitment — planning to reduce their spending by 50% to 60% on discretionary categories as compared to their peers.\n\nOn the other hand, a significant number — 40% — of value-seeking consumers engage in this behavior out of necessity, coming from lower-income, middle-aged households. With that being said, 23% of respondents who earn $200,000 or more annually were also categorized as value-seekers.\n\n“Consumers are more discerning than ever, weighing the value they receive with their purchases. And while low-income earners may look for value out of necessity, higher-income households increasingly put value at the top of their shopping lists. As economic uncertainty lingers, consumers across demographics actively seek brands that deliver value, whether through quality, trust, friendly attitudes, or a combination thereof,” Daher said.\n\n“No matter the industry sector, MVP brands that get pricing right and boost consumer perceptions of their value will be well positioned to attract consumers, increase their margins, and build long-term loyalty,” he added.\n\nDeloitte pulled data suggesting that, over the course of the past three years, roughly 2% of spend share migrated to brands identified as MVP players in the grocery, restaurant, and hotel space — a more marginal 0.6% shift was noted in apparel.\n\nHowever, quality was identified as the top driver of value in the grocery, hotel, and restaurant segments, with quality and reliability tying in automotive. Concerning apparel retailers, delivery speed was singled out as the most central metric.",
         "3624"
        ],
        [
         "3",
         "https://www.retaildive.com/news/amazon-stands-gain-temu-shein-customers-tariffs-fast-fashion/751950/",
         "Customers are ditching Shein and Temu. Can Amazon win them over?",
         "2025-07-01 09:00:00",
         "Laurel Deppen",
         "2025-07-05 12:33:38",
         "temu, shein, consumer, said, amazon, spending, data, companies, clothing, according",
         "Listen to the article 6 min This audio is auto-generated. Please let us know if you have feedback\n\nOnce key players in a fast fashion boom, Shein and Temu are now seeing customers buy clothing elsewhere online.\n\nHeightened tariffs on China and changes to the de minimis provision have added complications to the strategy that made Shein and Temu attractive to budget conscious customers: utilizing a China-based supply chain and sending small packages to avoid additional import duties.\n\nU.S. President Donald Trump’s Liberation Day tariffs, imposed in early April, shook consumer spending. Shein and Temu both announced they had to raise their prices to account for the impact, before later walking back their price increases.\n\nConsumer spending at Shein and Temu fell more than 10% and 20%, respectively, during the week ending on May 11, according to data from Consumer Edge. In the weeks since then, neither brand has mounted a significant comeback, according to Michael Gunther, vice president and head of insights for Consumer Edge.\n\nWhile both companies had already seen a spending slowdown in 2025, there was a sharp drop off in the face of April’s tariff announcements, according to data aggregation company Similarweb.\n\nSince the tariff announcements, consumers’ shopping patterns have quickly shifted, per Similarweb data. Some companies experience short-lived surges, such as at e-commerce companies including TikTok Shop and DHgate. Meanwhile, more established players Shein and Temu are left experiencing long-term shifts.\n\n“In the U.S., we’re going to see some rebalance, and I don’t think we’re going to see the levels [of spending on Shein and Temu] that we saw previously with these players,” Ben Parkes, advisory services for consumer goods and retail at Similarweb, said of Shein and Temu.\n\nAgainst this backdrop, Amazon has stood out as a key player that may stand to benefit from U.S. consumers changing where they shop for fast fashion.\n\n“I think we’re going to see a spike on some of these Amazon players who already had a presence, but now they’re kind of beefing up that area,” Parkes said.\n\nOver the last six months, the women’s clothing category on Amazon grew more than 26%, per Similarweb data. Three out of the five top brands in the category are China-based third-party sellers that utilize Amazon’s fulfillment network, per Similarweb data. A vast majority (92%) of women’s clothing on Amazon is from third-party sellers.\n\nMen’s clothing on Amazon doesn’t have the same statistics. In the last six months, the men’s category grew just 4%, and none of its top brands are China-based third-party sellers, per Similarweb. Third-party sellers make up 57% of the category.\n\n“In the long term, who knows where they’ll go, but right now, we’re seeing a shift toward Amazon for women’s clothing,” Parkes said.\n\nThe e-commerce giant recently extended its annual Prime Day sales event from two days to four. While Amazon didn’t state its explicit reason for the change, the company could see it as an opportunity to capitalize on the current weakness of Shein and Temu, according to Gunther.\n\n“Maybe they’re trying to take advantage of this situation here,” Gunther said. “I can’t imagine any of those companies are going to sit idle.”\n\nBut it’s not just Amazon benefitting from Temu and Shein’s lost market share.\n\nOther fast fashion merchants, including Asos and Zara, saw a surge in spending from Temu and Shein customers, according to Consumer Edge data.\n\nDiscounter retailers such as Ollie’s Bargain Outlet also saw an increase in spending from Temu and Shein shoppers, along with athleticwear companies Columbia and Footlocker, per Consumer Edge. Department stores such as Bloomingdale’s and Nordstrom Rack also gained share, as well as young adult clothing brands Aeropostale and American Eagle.\n\nHow are Shein and Temu responding to a U.S. slowdown?\n\nFurther down the line, Parkes expects companies like Temu to start building out their supply chain in the U.S., he said.\n\n“The biggest change we’re going to see in U.S. fashion is the supply chain,” Parkes said. “If you think about how [Shein and Temu] operated previously, with the de minimis situation, they were reliant on sending in smaller parcels and that is now something that becomes a challenge.”\n\nTemu announced its intention to localize its supply chain when it walked back its previously announced tariff-related price increases, which it attributed to shifting to a local fulfillment model.\n\nIn the meantime, however, both Shein and Temu may have shifted their marketing spending to countries outside the U.S.\n\nDuring the first three weeks of May, Temu sales jumped more than 60% in the EU, compared to 40% to 50% in March and April, according to Consumer Edge.\n\nBroken down by individual country, France saw the largest increase with nearly more than 100% growth from April to May, per the data, which said this could be due to increased ad spending in the country.\n\nFor Shein, EU sales were up nearly 20% in May, compared to low double-digit growth in April, per Consumer Edge data. Sales growth in the U.K. was nearly 50% year over year.\n\n“Both companies were trying to make a concerted effort to diversify geographically, perhaps in preparation for trade tensions to increase,” Gunther said. “But those gains seem to have either remained steadily positive or accelerated. I think a lot of this is going to depend on what the regulatory environment looks like [in Europe].”\n\nHowever, the U.S. is still a much more important market for them.\n\n“If you’re seeing big increases in Europe and big decreases in the U.S… that’s not [net] positive for them,” Gunther said.",
         "5662"
        ],
        [
         "4",
         "https://www.retaildive.com/news/retail-trends-to-watch-2025/735690/",
         "8 retail trends to watch in 2025",
         "2025-01-07 14:00:00",
         "Retail Dive Staff",
         "2025-07-05 12:33:40",
         "retail, retailers, new, year, continue, said, dtc, likely, brands, brand",
         "Listen to the article 15 min This audio is auto-generated. Please let us know if you have feedback\n\nA new year always brings new trends with it — headwinds and tailwinds that will end up defining retail for that period of time. While it’s impossible to predict all of them (a pandemic that upended physical retail wasn’t on our list in 2020), we can point to prevailing patterns that have emerged and are likely to continue in the year ahead.\n\nSome topics, like retail’s handling of shrink and theft, have come into sharper focus over the past year or two, while others have been rattling around the industry in some fashion for years. The evolution of department stores has taken several twists and turns over time, as those retailers move more stores to off-mall locations, downsize their store fleets, experiment with smaller formats and change ownership. Distressed retail, too, is always shifting to tell us new things about the state of the industry and its individual sectors.\n\nUndoubtedly, there will be themes that rise to the surface throughout the year ahead, but until then, here is a selection of major retail trends to watch in 2025.\n\n1. An uncertain outlook for distressed retail\n\nThe trajectory of currently distressed home, apparel, and discretionary retail may be uncertain in the new year as the U.S. readies for a new presidential administration — and a likely full slate of new economic policy initiatives.\n\nLooking ahead, mid-sized retailers that mostly offer basic, lower end brands of discretionary merchandise targeted at middle-income consumers are likely to slide further into distress, business consulting and management advisory firm FTI Consulting said in a blog post. These retailers don’t offer an exciting value proposition and could disappear from the landscape without being missed, the firm said.\n\nRetail Dive covered nearly 20 retailers that filed for bankruptcy in 2024. They include apparel seller Express, which was bought by a newly formed joint venture between WHP Global and mall owners Simon, Brookfield and Centennial. Conn’s Inc., and its Conn’s Home Plus and Badcock Home Furniture & More banners, went out of business and closed all of their stores.\n\nBig Lots also filed for Chapter 11 and began store closing sales after a deal to sell itself to a private equity firm fell through. The company went on to close a sales agreement with Gordon Brothers Retail Partners that allows Variety Wholesalers to acquire between 200 and 400 locations under the Big Lots brand.\n\nDirect-to-consumer brands also experienced waves of upheaval last year that may continue. After rising and riding high before the pandemic, five years later, many DTC companies began hitting growth ceilings as they continue grappling with rising online order fulfillment costs.\n\nSimeon Siegel, managing director at BMO Capital Markets, told Retail Dive in November that the trend of companies building their identity around their selling channel versus what they’re selling appears to be over. Instead of aspiring to be a DTC brand, companies instead should focus on selling something special and identify the best strategies to reach consumers in a brand-appropriate way, Siegel said.\n\n2. Deal making efforts will likely continue\n\nLast year saw several major deals within the retail industry. Casper Sleep changed hands again after becoming a subsidiary of Carpenter Co., a manufacturer of polyurethane foams; Deckers sold footwear brand Sanuk; and Saks Fifth Avenue owner HBC acquired Neiman Marcus.\n\nConsolidation in retail by way of deals will likely continue into the new year, but they may hit roadblocks.\n\nThe Federal Trade Commission challenged several deals in 2024, including Tapestry’s acquisition of rival Capri (which led to the two companies terminating their merger agreement) and Tempur Sealy’s proposed takeover of Mattress Firm.\n\nAs a new administration prepares to take office — and a new appointee named to lead the FTC — it’s unclear what challenges lie ahead for deals in retail.\n\nLooking ahead, overall deals are expected to pick up in 2025. M&A activity is projected to rise 10% this year on top of a 13% rise in 2024, according to the EY-Parthenon Deal Barometer. Private equity M&A deals are expected to rise 16% this year, while corporate M&A deals could rise 8%.\n\nAnd despite uncertainty around major elections causing market volatility, deal activity last year increased 10%, according to Stephan Feldgoise and Mark Sorrell, co-heads of the global mergers and acquisitions business in Goldman Sachs Global Banking and Markets. In 2025, the firm predicts deal activity may rise by a similar percentage.\n\n3. Uncertainty around diversity, equity and inclusion will persist\n\nFollowing a backlash fomented mostly on social media, retailers and brands including Tractor Supply, Lowe’s, Harley Davidson, Ford Motor Co., Indian Motorcycle, Molson Coors and Jack Daniels owner Brown-Forman in 2024 all backed away from diversity practices they had previously touted as good for business.\n\nIn November, when Walmart announced it had ended supplier diversity goals, won’t create a racial equity center and will no longer participate in the Human Rights Campaign’s Corporate Equality Index, the case for supporting diversity, equity and inclusion seemed especially hopeless. The retail giant has been praised by business experts for its level of commitment to diversity.\n\nThe problem for these retailers is that mollifying online “anti-woke” provocateurs comes with a cost. Businesses without formal DEI programs risk relegating decision-making to teams that are not just like-minded but myopic, experts say. Retailers interested in connecting with younger, more diverse and more open-minded generations are especially vulnerable.\n\nMost successful companies are maintaining their DEI programs, even if they’re no longer calling them that, experts say. And those that have cut out DEI likely have new problems to solve. One retailer hasn’t been shy about sticking to its diversity goals: Costco late in the year forcefully rebuffed a shareholder proposal to scrutinize its DEI programming, saying it is essential to its success with customers, suppliers, employees — and, ultimately, shareholders.\n\n4. Tariffs may influence consumers’ search for value\n\nAcross nearly every sector, consumers consistently are in search of value as inflation persists. Bankrate noted in a December report that prices are about 22% more expensive now than they were before the pandemic-led recession began in February 2020. Bankrate said that means Americans now need about $1,221 to buy the same goods and services that previously cost $1,000 at the onset of the pandemic-induced recession.\n\nWhile U.S. customers are resilient they’re still looking for value to maximize their budgets, Walmart CFO John David Rainey said during a recent earnings call. Rainey also noted that customers are looking for convenience too. Michael Creedon, Dollar Tree’s interim CEO, offered another perspective during a recent earnings call, noting that many value-seeking customers still have tight budgets and are focused on buying for their needs instead of discretionary purchases.\n\nThe threat of tariffs on imported goods is also an issue of concern for some retailers. President-elect Trump has said he would implement tariffs on imports from China, Mexico and Canada on his first day in office, with a 20% general tariff on imported goods.\n\nRetailers are reporting varied levels of exposure to the impact the possible tariffs might have on their operations and sales. Best Buy, for example, said it’s the importer of record on only 2% to 3% of its products. The Home Depot executives said during a recent earnings call that the company’s current sourcing strategy and previous experience with trade duties should insulate it against potential tariff hikes under the incoming administration.\n\nIn contrast, rival home improvement retailer Lowe’s acknowledged that about 40% of its assortment is sourced from abroad. Meanwhile, analysts recently told Retail Dive that off-price retailers probably won’t feel the sting of tariff spikes since much of their assortment flows from domestic retailers and brands.\n\n5. Specifics around shrink, crime remain elusive as retailers’ tactics backfire\n\nInsights into inventory losses may only get cloudier in coming years. The National Retail Federation in 2024 stopped issuing its annual shrink report, which it had done for more than three decades. The topic also became more of a mystery after the NRF retracted a key statistic around losses from organized retail crime in late 2023.\n\nIn 2024, little new information about lost inventory or retail crime emerged. A crime-specific report that NRF released in December, a survey of retail loss prevention and security officers, mostly covered old ground, and contained few hard statistics. In its own annual report, the Council on Criminal Justice found that shoplifting rose this year in some areas, though those researchers say better reporting is needed to properly assess that problem as well.\n\nIt does appear that rates of shrink — losses from theft and other reasons, like processing errors — appear to be improving at many of the retailers that had been calling it out as a problem. Dollar General, which pulled out most of its self-checkout to combat theft, recently said shrink rates are expected to continue to improve throughout 2025. Other retailers have locked up merchandise to deter thieves, but that comes with its own cost, as many customers find that to be inconvenient and abandon their shopping trips.\n\n6. ‘DTC brands’ lose relevance as retailers embrace a more balanced approach\n\nIn stark contrast to a few years ago, the era of the DTC brand seems to be nearing its end. That’s not to say DTC doesn’t exist anymore or isn’t important — it is. But brands have begun a shift back to employing DTC in a more balanced manner, as one of many channels at their disposal.\n\nThat trend will continue in 2025, with companies like Nike that prioritized DTC at the expense of wholesale normalizing their operations and new brands launching into wholesale partners early on. The focus on profitable growth, especially in a tough funding market, will require retailers to consider the best way to sell their products, not just the buzziest.\n\nMeanwhile, the names that made the “DTC brand” famous will continue to evolve in order to survive. Sometimes, as in the case of Outdoor Voices and Casper, that means new ownership and new plans for growth. In others, like Allbirds, it includes store closures, new distribution methods and new leadership. Whatever the case, these players are changing their strategies to move beyond the simple DTC brand positioning.\n\n7. Department stores change in order to survive\n\nAlthough 2024 may have been a tough year for department stores, many of them are still around and going through an evolution. And that shakeout is likely to continue into 2025.\n\nMacy’s in December stated that, after announcing at the start of 2024 that it was shuttering 150 locations over a period of three years, those efforts were going to speed up. J.C. Penney revealed that it was closing four locations, and after a rocky year financially, many analysts expect Kohl’s to announce closures of its own.\n\nBut not all is lost. Macy’s during recent earnings has pointed out promising results at its “go-forward” locations, or those that will remain open after planned closures. Simon Property Group CEO David Simon said this spring that J.C. Penney could possibly open new locations in light of the department store’s ongoing profitability.\n\nBut looming in the background also is a potential push from activist investors, who may have a different vision for the trajectory of a company — especially when it comes to its real estate. Macy’s contended with two separate battles with stockholder groups in 2024, and Kohl’s has struggled with activist investors in the recent past. More may be on the horizon in the coming year.\n\n8. The customer experience continues to evolve\n\nAcross the areas of returns, self-checkout and AI adoption, shoppers will continue to face changes to the customer experience in 2025.\n\nRetailers are steadily pursuing efforts to crack down on serial returners with policy changes. In November, REI confirmed to Retail Dive it would no longer accept returns from a “small subset” of members known to repeatedly abuse its return and exchange policy. In a recent report, the National Retail Federation projected that shoppers returned $890 billion in merchandise in 2024, or 16.9% of retailers’ annual sales.\n\nTarget, Walmart and Dollar General last year made major changes to its self-checkout operations in part to curb shrink and theft. Dollar General in May said it would eliminate a ‘vast majority’ of its self-checkout kiosks, Walmart also removed self-checkout from select stores and Target rolled out express self-checkout lanes which carry a limit of 10 items or fewer.\n\nRetailers also will continue to integrate AI into their operations, across many sectors and use cases.\n\nTarget has consistently invested in the tech operationally and debuted a personalized gift finder powered by generative AI on its app and website. The retailer is also experimenting with a shopping assistant chatbot. Nordstrom refreshed its holiday app to include trend reports from AI and stylist input. The department store chain also improved the app’s search experience and included personalized recommendations.",
         "13522"
        ]
       ],
       "shape": {
        "columns": 8,
        "rows": 5
       }
      },
      "text/html": [
       "<div>\n",
       "<style scoped>\n",
       "    .dataframe tbody tr th:only-of-type {\n",
       "        vertical-align: middle;\n",
       "    }\n",
       "\n",
       "    .dataframe tbody tr th {\n",
       "        vertical-align: top;\n",
       "    }\n",
       "\n",
       "    .dataframe thead th {\n",
       "        text-align: right;\n",
       "    }\n",
       "</style>\n",
       "<table border=\"1\" class=\"dataframe\">\n",
       "  <thead>\n",
       "    <tr style=\"text-align: right;\">\n",
       "      <th></th>\n",
       "      <th>url</th>\n",
       "      <th>title</th>\n",
       "      <th>publish_date</th>\n",
       "      <th>authors</th>\n",
       "      <th>scraped_at</th>\n",
       "      <th>keywords</th>\n",
       "      <th>text</th>\n",
       "      <th>text_length</th>\n",
       "    </tr>\n",
       "  </thead>\n",
       "  <tbody>\n",
       "    <tr>\n",
       "      <th>0</th>\n",
       "      <td>https://retailwire.com/discussion/early-summer...</td>\n",
       "      <td>Is Early Summer Becoming a Bigger Retail Sales...</td>\n",
       "      <td>2025-07-03 13:36:50</td>\n",
       "      <td>Craig Sundstrom, Mohamed Amer, Alex Walderman,...</td>\n",
       "      <td>2025-07-05 12:33:35</td>\n",
       "      <td>summer, july, prices, dick, announced, retaile...</td>\n",
       "      <td>July 3, 2025\\n\\nRetailers ranging from Dollar ...</td>\n",
       "      <td>2826</td>\n",
       "    </tr>\n",
       "    <tr>\n",
       "      <th>1</th>\n",
       "      <td>https://retailwire.com/discussion/trader-joes-...</td>\n",
       "      <td>Should Trader Joe’s Open Stores Next To Each O...</td>\n",
       "      <td>2025-07-01 16:30:00</td>\n",
       "      <td>Craig Sundstrom, Pamela Kaplan, Kai Clarke, Mo...</td>\n",
       "      <td>2025-07-05 12:33:36</td>\n",
       "      <td>location, trader, joe, store, new, opened, str...</td>\n",
       "      <td>July 1, 2025\\n\\nTrader Joe’s has opened a stor...</td>\n",
       "      <td>2344</td>\n",
       "    </tr>\n",
       "    <tr>\n",
       "      <th>2</th>\n",
       "      <td>https://retailwire.com/discussion/how-retailer...</td>\n",
       "      <td>How Can Retailers Best Attract a Growing Cohor...</td>\n",
       "      <td>2025-07-01 16:00:00</td>\n",
       "      <td>Craig Sundstrom, Mohamed Amer, Frank Margolis,...</td>\n",
       "      <td>2025-07-05 12:33:36</td>\n",
       "      <td>value, brands, consumers, deloitte, quality, i...</td>\n",
       "      <td>July 1, 2025\\n\\nWhen it comes to the concept o...</td>\n",
       "      <td>3624</td>\n",
       "    </tr>\n",
       "    <tr>\n",
       "      <th>3</th>\n",
       "      <td>https://www.retaildive.com/news/amazon-stands-...</td>\n",
       "      <td>Customers are ditching Shein and Temu. Can Ama...</td>\n",
       "      <td>2025-07-01 09:00:00</td>\n",
       "      <td>Laurel Deppen</td>\n",
       "      <td>2025-07-05 12:33:38</td>\n",
       "      <td>temu, shein, consumer, said, amazon, spending,...</td>\n",
       "      <td>Listen to the article 6 min This audio is auto...</td>\n",
       "      <td>5662</td>\n",
       "    </tr>\n",
       "    <tr>\n",
       "      <th>4</th>\n",
       "      <td>https://www.retaildive.com/news/retail-trends-...</td>\n",
       "      <td>8 retail trends to watch in 2025</td>\n",
       "      <td>2025-01-07 14:00:00</td>\n",
       "      <td>Retail Dive Staff</td>\n",
       "      <td>2025-07-05 12:33:40</td>\n",
       "      <td>retail, retailers, new, year, continue, said, ...</td>\n",
       "      <td>Listen to the article 15 min This audio is aut...</td>\n",
       "      <td>13522</td>\n",
       "    </tr>\n",
       "  </tbody>\n",
       "</table>\n",
       "</div>"
      ],
      "text/plain": [
       "                                                 url  \\\n",
       "0  https://retailwire.com/discussion/early-summer...   \n",
       "1  https://retailwire.com/discussion/trader-joes-...   \n",
       "2  https://retailwire.com/discussion/how-retailer...   \n",
       "3  https://www.retaildive.com/news/amazon-stands-...   \n",
       "4  https://www.retaildive.com/news/retail-trends-...   \n",
       "\n",
       "                                               title         publish_date  \\\n",
       "0  Is Early Summer Becoming a Bigger Retail Sales...  2025-07-03 13:36:50   \n",
       "1  Should Trader Joe’s Open Stores Next To Each O...  2025-07-01 16:30:00   \n",
       "2  How Can Retailers Best Attract a Growing Cohor...  2025-07-01 16:00:00   \n",
       "3  Customers are ditching Shein and Temu. Can Ama...  2025-07-01 09:00:00   \n",
       "4                   8 retail trends to watch in 2025  2025-01-07 14:00:00   \n",
       "\n",
       "                                             authors           scraped_at  \\\n",
       "0  Craig Sundstrom, Mohamed Amer, Alex Walderman,...  2025-07-05 12:33:35   \n",
       "1  Craig Sundstrom, Pamela Kaplan, Kai Clarke, Mo...  2025-07-05 12:33:36   \n",
       "2  Craig Sundstrom, Mohamed Amer, Frank Margolis,...  2025-07-05 12:33:36   \n",
       "3                                      Laurel Deppen  2025-07-05 12:33:38   \n",
       "4                                  Retail Dive Staff  2025-07-05 12:33:40   \n",
       "\n",
       "                                            keywords  \\\n",
       "0  summer, july, prices, dick, announced, retaile...   \n",
       "1  location, trader, joe, store, new, opened, str...   \n",
       "2  value, brands, consumers, deloitte, quality, i...   \n",
       "3  temu, shein, consumer, said, amazon, spending,...   \n",
       "4  retail, retailers, new, year, continue, said, ...   \n",
       "\n",
       "                                                text text_length  \n",
       "0  July 3, 2025\\n\\nRetailers ranging from Dollar ...        2826  \n",
       "1  July 1, 2025\\n\\nTrader Joe’s has opened a stor...        2344  \n",
       "2  July 1, 2025\\n\\nWhen it comes to the concept o...        3624  \n",
       "3  Listen to the article 6 min This audio is auto...        5662  \n",
       "4  Listen to the article 15 min This audio is aut...       13522  "
      ]
     },
     "execution_count": 31,
     "metadata": {},
     "output_type": "execute_result"
    }
   ],
   "source": [
    "df.head()"
   ]
  }
 ],
 "metadata": {
  "kernelspec": {
   "display_name": ".venv",
   "language": "python",
   "name": "python3"
  },
  "language_info": {
   "codemirror_mode": {
    "name": "ipython",
    "version": 3
   },
   "file_extension": ".py",
   "mimetype": "text/x-python",
   "name": "python",
   "nbconvert_exporter": "python",
   "pygments_lexer": "ipython3",
   "version": "3.11.9"
  }
 },
 "nbformat": 4,
 "nbformat_minor": 5
}
